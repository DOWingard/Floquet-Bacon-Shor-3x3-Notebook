{
 "cells": [
  {
   "cell_type": "code",
   "execution_count": 3,
   "id": "6d1f7ae1",
   "metadata": {},
   "outputs": [],
   "source": [
    "import numpy as np\n",
    "import pymatching\n",
    "import networkx\n",
    "import sys\n",
    "import stim"
   ]
  },
  {
   "cell_type": "markdown",
   "id": "11754415",
   "metadata": {},
   "source": [
    "# Prototype Floquet-Bacon-Shor code for a 3x3 lattice"
   ]
  },
  {
   "cell_type": "markdown",
   "id": "593f510d",
   "metadata": {},
   "source": [
    " Code is a work in progress and the decoder is still shaky. It currently is generating a decoding hypergraph due to creating gauge detectors instead of combining gauge measurements to track one stabilizer. Nonetheless it runs and decodes somewhat effectively."
   ]
  },
  {
   "cell_type": "markdown",
   "id": "520dadaa",
   "metadata": {},
   "source": [
    "## Specify the circuit"
   ]
  },
  {
   "cell_type": "code",
   "execution_count": 783,
   "id": "4b2e9ab2",
   "metadata": {},
   "outputs": [],
   "source": [
    "ITERATIONS = 4\n",
    "SHOTS = 10\n",
    "Noisy = False\n",
    "IDF = False\n",
    "output = 'sample_detector'\n",
    "printout = False\n",
    "Tune = False\n",
    "\n",
    "### ERROR MODEL ###################\n",
    "single_xz_error = 0.01\n",
    "single_gate_error = 0.0007\n",
    "px = 0.007\n",
    "pz = 0\n",
    "px = 0.014\n",
    "ancilla_readout_error = 0.0158\n",
    "error_qubit = [0,1,2,3,4,5,6,7,8]\n",
    "DC = True\n",
    "#DC_Type = 'defect_stabilizers'\n",
    "DC_Type = 'gauge_checks'\n",
    "itr = 0\n",
    "rndx = 3 # must be 1 or 3  ( = (4*itr + rnd) mod 4 )\n",
    "rndz = 0 # must be 0 or 2  ( = (4*itr + rnd) mod 4 )\n",
    "################################\n",
    "\n",
    "steps = 4*ITERATIONS\n",
    "\n",
    "\n",
    "\n",
    "qubit = [0,1,2,3,4,5,6,7,8]\n",
    "\n",
    "\n",
    "ancilla = [0,1,2,3,4,5,6,7]+len(qubit)*np.ones(8).astype(int)\n",
    "encoded_utility_ancillas = np.arange(np.max(ancilla)+1, np.max(ancilla)+7)\n",
    "logical_out = np.max(encoded_utility_ancillas)+1\n",
    "boundary_detectors = []\n",
    "for i in range(8):\n",
    "    boundary_detectors.append(logical_out+1+i)\n",
    "\n",
    "\n",
    "gauge_checks_X_A = [(1,4),(3,6),(4,7),(5,8)]\n",
    "gauge_checks_Z_B = [(1,2),(3,4),(4,5),(7,8)]\n",
    "gauge_checks_X_C = [(0,3),(1,4),(2,5),(4,7)]\n",
    "gauge_checks_Z_D = [(0,1),(3,4),(4,5),(6,7)]\n",
    "schedule = [gauge_checks_X_A, gauge_checks_Z_B, gauge_checks_X_C, gauge_checks_Z_D]\n",
    "\n",
    "ancilla_idx = [(0,1,2,3), (4,5,6,7), (0,1,2,3), (4,5,6,7)]\n",
    "logical_Z = [(0,2), (6,7), (6,8), (7,8)]\n",
    "logical_X = [(0,3), (0,6), (3,6), (2,8)]\n",
    "\n",
    "logical_Z_thermalized = [1,4,7]\n",
    "logical_X_thermalized = [3,4,5]\n",
    "\n",
    "Z_sd = [logical_Z_thermalized,logical_Z]\n",
    "\n",
    "thermalized_logicals = [logical_X_thermalized,logical_Z_thermalized]\n",
    "\n",
    "\n",
    "\n",
    "\n",
    "\n",
    "\n",
    "\n"
   ]
  },
  {
   "cell_type": "markdown",
   "id": "24f7eb06",
   "metadata": {},
   "source": [
    "## Build the circuit"
   ]
  },
  {
   "cell_type": "code",
   "execution_count": 784,
   "id": "84ad2d25",
   "metadata": {},
   "outputs": [],
   "source": [
    "\n",
    "\n",
    "qc = stim.Circuit()\n",
    "\n",
    "FBS_circuit = stim.Circuit()\n",
    "\n",
    "\n",
    "for i in range(16):\n",
    "    FBS_circuit.append(\"M\", 0)\n",
    "    FBS_circuit.append(\"R\", 0)\n",
    "\n",
    "\n",
    "\n",
    "for i in range(4):\n",
    "    if Noisy == Tune and  (i == rndx or i == rndx + 2) :\n",
    "        qc.append('X_ERROR',error_qubit,px)\n",
    "\n",
    "    if Noisy == Tune and (i == rndz or i == rndz + 2):\n",
    "        qc.append('Z_ERROR',error_qubit,pz)\n",
    "\n",
    "\n",
    "    anc_values = [ancilla[count] for count in ancilla_idx[i]]\n",
    "\n",
    "    if i%2 == 0:   \n",
    "        qc.append('H',anc_values)\n",
    "        \n",
    "\n",
    "    for j in range(4):\n",
    "        for t in range(2):\n",
    "            qubit_value = schedule[i][j][t]\n",
    "\n",
    "            qc.append('CNOT', [qubit_value , anc_values[j]])\n",
    "\n",
    "\n",
    "    if i%2 == 0:   \n",
    "        qc.append('H',anc_values)\n",
    "        \n",
    "\n",
    "\n",
    "    for j in anc_values:\n",
    "\n",
    "        qc.append('M', j)\n",
    "        if Noisy == True:\n",
    "            qc.append('X_ERROR', j, ancilla_readout_error)\n",
    "        qc.append('R', j)\n",
    "\n",
    "    \n",
    "\n",
    "    if DC_Type == 'defect_stabilizers':   \n",
    "        \n",
    "        qc.append(\"DETECTOR\", [stim.target_rec(-1),stim.target_rec(-2),stim.target_rec(-3),stim.target_rec(-4),stim.target_rec(-17),stim.target_rec(-18),stim.target_rec(-19),stim.target_rec(-20)])\n",
    "\n",
    "        \n",
    "\n",
    "\n",
    "    if DC_Type == 'gauge_checks':\n",
    "\n",
    "        qc.append(\"DETECTOR\", [stim.target_rec(-1),stim.target_rec(-17)])\n",
    "        qc.append(\"DETECTOR\", [stim.target_rec(-2),stim.target_rec(-18)])\n",
    "        qc.append(\"DETECTOR\", [stim.target_rec(-3),stim.target_rec(-19)])\n",
    "        qc.append(\"DETECTOR\", [stim.target_rec(-4),stim.target_rec(-20)])\n",
    "\n",
    "                \n",
    "    qc.append(\"TICK\") \n",
    "    \n",
    "qc.append('SHIFT_COORDS', [], arg = [0,0,1])\n",
    "    \n",
    "\n",
    "FBS_circuit.append(stim.CircuitRepeatBlock(body = qc, repeat_count = ITERATIONS))\n",
    "FBS_circuit.append('M', [1,4,7])\n",
    "FBS_circuit.append('M', [7,8])\n",
    "FBS_circuit.append('OBSERVABLE_INCLUDE',[stim.target_rec(-3),stim.target_rec(-4),stim.target_rec(-5)],0)\n",
    "FBS_circuit.append('OBSERVABLE_INCLUDE',[stim.target_rec(-1),stim.target_rec(-2)],1)\n",
    "\n",
    "\n",
    "\n"
   ]
  },
  {
   "cell_type": "markdown",
   "id": "05135404",
   "metadata": {},
   "source": [
    "## Extract the error model and run the experiment SHOTS times"
   ]
  },
  {
   "cell_type": "code",
   "execution_count": 785,
   "id": "7ee92d6b",
   "metadata": {},
   "outputs": [],
   "source": [
    "dem = FBS_circuit.detector_error_model(decompose_errors=True, allow_gauge_detectors=True)\n",
    "m = pymatching.Matching.from_detector_error_model(dem)\n",
    "\n",
    "detector_sampler = FBS_circuit.compile_detector_sampler()\n",
    "detector_samples, observables = FBS_circuit.compile_detector_sampler().sample(shots=SHOTS, separate_observables=True)"
   ]
  },
  {
   "cell_type": "markdown",
   "id": "82a9c0f5",
   "metadata": {},
   "source": [
    "## Output the measured Z_s,Z_d, corrections, and corrected Z_s,Z_d."
   ]
  },
  {
   "cell_type": "code",
   "execution_count": 786,
   "id": "d6b6e0a4",
   "metadata": {},
   "outputs": [
    {
     "name": "stdout",
     "output_type": "stream",
     "text": [
      "OBSERVABLES  =======> [Z_s,Z_d]\n",
      "----------------------------\n",
      "measured observables:  [0 1] [0 0] [0 0] [0 0] [0 0] [0 0] [1 1] [0 0] [1 0] [0 0] \n",
      "corrections:           [1 1] [0 0] [0 0] [0 0] [0 0] [0 0] [1 1] [0 0] [0 0] [0 0]\n",
      "corrected_observables: [1 0] [0 0] [0 0] [0 0] [0 0] [0 0] [0 0] [0 0] [1 0] [0 0] \n"
     ]
    }
   ],
   "source": [
    "\n",
    "corrections = m.decode_batch(detector_samples)\n",
    "observable_results = observables.astype(int)^corrections\n",
    "\n",
    "\n",
    "MO = ' '.join([f\"[{x[0]} {x[1]}]\" for x in observables.astype(int)])\n",
    "C  = ' '.join([f\"[{x[0]} {x[1]}]\" for x in corrections.astype(int)])\n",
    "CO = ' '.join([f\"[{x[0]} {x[1]}]\" for x in observable_results])\n",
    "\n",
    "\n",
    "print('OBSERVABLES  =======> [Z_s,Z_d]')\n",
    "print('----------------------------')\n",
    "print(f'measured observables:  {MO} ')\n",
    "print(f'corrections:           {C}')\n",
    "print(f'corrected_observables: {CO} ')"
   ]
  },
  {
   "cell_type": "markdown",
   "id": "5984f1df",
   "metadata": {},
   "source": [
    "Given this is a \"floquet-ified\" subsystem code, the decoding can be difficult. I am still currently using the gauges for detectors which is not practical as it leads to a decoding hypergraph, but properly setting up detectors from the gauge checks in stim requires more subtle thinking"
   ]
  },
  {
   "cell_type": "markdown",
   "id": "22702531",
   "metadata": {},
   "source": [
    "## (Optional) Display the detector (hyper) graph"
   ]
  },
  {
   "cell_type": "code",
   "execution_count": 787,
   "id": "753e375d",
   "metadata": {},
   "outputs": [
    {
     "data": {
      "text/plain": [
       "<pymatching.Matching object with 64 detectors, 0 boundary nodes, and 29 edges>"
      ]
     },
     "execution_count": 787,
     "metadata": {},
     "output_type": "execute_result"
    },
    {
     "data": {
      "image/png": "[encoded data removed]",
      "text/plain": [
       "<Figure size 640x480 with 1 Axes>"
      ]
     },
     "metadata": {},
     "output_type": "display_data"
    }
   ],
   "source": [
    "def visualize_graph(input_pymatching_object):\n",
    "\n",
    "        m1 = input_pymatching_object\n",
    "        G = m1.to_networkx()\n",
    "        pos = networkx.spring_layout(G)\n",
    "        networkx.draw(G, pos, with_labels=True, node_color='lightblue', edge_color='gray')\n",
    "        networkx.draw_networkx_edge_labels(G, pos, edge_labels={(u, v): f\"{d['weight']:.2f}\" for u, v, d in G.edges(data=True)}, font_color='red')\n",
    "\n",
    "visualize_graph(m)\n",
    "m"
   ]
  },
  {
   "cell_type": "code",
   "execution_count": null,
   "id": "7b647f7b",
   "metadata": {},
   "outputs": [],
   "source": []
  }
 ],
 "metadata": {
  "kernelspec": {
   "display_name": "Python 3",
   "language": "python",
   "name": "python3"
  },
  "language_info": {
   "codemirror_mode": {
    "name": "ipython",
    "version": 3
   },
   "file_extension": ".py",
   "mimetype": "text/x-python",
   "name": "python",
   "nbconvert_exporter": "python",
   "pygments_lexer": "ipython3",
   "version": "3.12.8"
  }
 },
 "nbformat": 4,
 "nbformat_minor": 5
}
